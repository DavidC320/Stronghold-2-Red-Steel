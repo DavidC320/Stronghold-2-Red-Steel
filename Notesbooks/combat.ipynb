{
 "cells": [
  {
   "cell_type": "markdown",
   "metadata": {},
   "source": [
    "# Combat action selection test"
   ]
  },
  {
   "cell_type": "code",
   "execution_count": 5,
   "metadata": {},
   "outputs": [
    {
     "name": "stdout",
     "output_type": "stream",
     "text": [
      "0\n",
      "sadfklj [1, 2, 4, 5, 6]\n",
      "0\n",
      "!\n",
      "0\n",
      "1\n",
      "iou [8, 0, 3, 5, 213]\n",
      "1\n",
      "[1, 2, 4, 5, 6]\n",
      "1\n",
      "0\n",
      "[1, 2, 4, 5, 6]\n",
      "0\n"
     ]
    }
   ],
   "source": [
    "class player:\n",
    "    def __init__(self, name, _list) -> None:\n",
    "        pass\n",
    "        self.name = name\n",
    "        self.list = _list\n",
    "\n",
    "class Action_test_1:\n",
    "    def __init__(self) -> None:\n",
    "        self.chars = [player(\"sadfklj\", [1, 2, 4, 5, 6]), player(\"iou\", [8, 0, 3, 5, 213])]\n",
    "        self.current_place = 0\n",
    "\n",
    "        self.actions = {\n",
    "            \"list\": self.grab_list()\n",
    "        }\n",
    "\n",
    "    @property\n",
    "    def current_player(self):\n",
    "        return self.chars[self.current_place]\n",
    "\n",
    "    def grab_list(self):\n",
    "        return self.current_player.list\n",
    "\n",
    "    def run_test(self):\n",
    "        run = True\n",
    "        while run:\n",
    "            print(self.current_place)\n",
    "            action = input(\"Action\")\n",
    "            if action == \"next\":\n",
    "                self.current_place += 1\n",
    "                if self.current_place + 1 > len(self.chars):\n",
    "                    self.current_place = 0\n",
    "            elif action == \"info\":\n",
    "                print(self.current_player.name, self.current_player.list)\n",
    "            elif action == \"list\":\n",
    "                print(self.actions.get(\"list\"))\n",
    "            elif action == \"quit\":\n",
    "                run = False\n",
    "            else:\n",
    "                print(\"!\")\n",
    "a = Action_test_1()\n",
    "a.run_test()\n",
    "\n"
   ]
  },
  {
   "cell_type": "code",
   "execution_count": 3,
   "metadata": {},
   "outputs": [
    {
     "name": "stdout",
     "output_type": "stream",
     "text": [
      "[0, 1, 1, 2]\n",
      "[1, 2, 0, 1]\n"
     ]
    }
   ],
   "source": [
    "# can lists be added\n",
    "l1 = [0, 1]\n",
    "l2 = [1, 2]\n",
    "l3 = l1 + l2\n",
    "l2 += l1\n",
    "print(l3)\n",
    "print(l2)"
   ]
  },
  {
   "cell_type": "code",
   "execution_count": 9,
   "metadata": {},
   "outputs": [
    {
     "name": "stdout",
     "output_type": "stream",
     "text": [
      "Current Action: None\n",
      "Usable Actions: ('attack', 'defend', 'item', 'run')\n",
      "stopping\n"
     ]
    }
   ],
   "source": [
    "action_dict = {\n",
    "    \"use\" : True,\n",
    "    \"options\" : {\n",
    "        \"attack\" : {\n",
    "            \"use\" : True,\n",
    "            \"options\" : {\n",
    "                \"left hand\" : {\n",
    "                    \"use\" : True\n",
    "                },\n",
    "                \"both hands\" : {\n",
    "                    \"use\" : True\n",
    "                },\n",
    "                \"right hand\" : {\n",
    "                    \"use\" : True\n",
    "                }\n",
    "            }\n",
    "        },\n",
    "        \"Item\" : {\n",
    "            \"use\" : True,\n",
    "            \"options\" : {\n",
    "                \"left pocket\" : {\n",
    "                    \"use\" : True\n",
    "                },\n",
    "                \"inventory\" : {\n",
    "                    \"use\" : True\n",
    "                },\n",
    "                \"right pocket\" : {\n",
    "                    \"use\" : True\n",
    "                }\n",
    "            }\n",
    "        },\n",
    "        \"defend\" : {\n",
    "            \"use\" : True\n",
    "        },\n",
    "        \"run\" : {\n",
    "            \"use\" : True,\n",
    "            \"options\" : {\n",
    "                \"stay\" : {\n",
    "                    \"use\" : True\n",
    "                },\n",
    "                \"run\" : {\n",
    "                    \"use\" : True\n",
    "                }\n",
    "            }\n",
    "        }\n",
    "    }\n",
    "}\n",
    "\n",
    "\n",
    "\n",
    "# There are 3 layers\n",
    "current_action = None\n",
    "\n"
   ]
  }
 ],
 "metadata": {
  "kernelspec": {
   "display_name": "Python 3.10.4 64-bit",
   "language": "python",
   "name": "python3"
  },
  "language_info": {
   "codemirror_mode": {
    "name": "ipython",
    "version": 3
   },
   "file_extension": ".py",
   "mimetype": "text/x-python",
   "name": "python",
   "nbconvert_exporter": "python",
   "pygments_lexer": "ipython3",
   "version": "3.10.4 (tags/v3.10.4:9d38120, Mar 23 2022, 23:13:41) [MSC v.1929 64 bit (AMD64)]"
  },
  "orig_nbformat": 4,
  "vscode": {
   "interpreter": {
    "hash": "9725d54ea1d2fec8e106211d56814ca5bf75b29cfdca411305d0e96ecd363bab"
   }
  }
 },
 "nbformat": 4,
 "nbformat_minor": 2
}
