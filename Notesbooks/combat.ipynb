{
 "cells": [
  {
   "cell_type": "markdown",
   "metadata": {},
   "source": [
    "# Combat action selection test"
   ]
  },
  {
   "cell_type": "code",
   "execution_count": 9,
   "metadata": {},
   "outputs": [
    {
     "name": "stdout",
     "output_type": "stream",
     "text": [
      "Current Action: None\n",
      "Usable Actions: ('attack', 'defend', 'item', 'run')\n",
      "stopping\n"
     ]
    }
   ],
   "source": [
    "action_dict = {\n",
    "    \"use\" : True,\n",
    "    \"options\" : {\n",
    "        \"attack\" : {\n",
    "            \"use\" : True,\n",
    "            \"options\" : {\n",
    "                \"left hand\" : {\n",
    "                    \"use\" : True\n",
    "                },\n",
    "                \"both hands\" : {\n",
    "                    \"use\" : True\n",
    "                },\n",
    "                \"right hand\" : {\n",
    "                    \"use\" : True\n",
    "                }\n",
    "            }\n",
    "        },\n",
    "        \"Item\" : {\n",
    "            \"use\" : True,\n",
    "            \"options\" : {\n",
    "                \"left pocket\" : {\n",
    "                    \"use\" : True\n",
    "                },\n",
    "                \"inventory\" : {\n",
    "                    \"use\" : True\n",
    "                },\n",
    "                \"right pocket\" : {\n",
    "                    \"use\" : True\n",
    "                }\n",
    "            }\n",
    "        },\n",
    "        \"defend\" : {\n",
    "            \"use\" : True\n",
    "        },\n",
    "        \"run\" : {\n",
    "            \"use\" : True,\n",
    "            \"options\" : {\n",
    "                \"stay\" : {\n",
    "                    \"use\" : True\n",
    "                },\n",
    "                \"run\" : {\n",
    "                    \"use\" : True\n",
    "                }\n",
    "            }\n",
    "        }\n",
    "    }\n",
    "}\n",
    "\n",
    "\n",
    "\n",
    "# There are 3 layers\n",
    "current_action = None\n",
    "\n"
   ]
  }
 ],
 "metadata": {
  "kernelspec": {
   "display_name": "Python 3.10.4 64-bit",
   "language": "python",
   "name": "python3"
  },
  "language_info": {
   "codemirror_mode": {
    "name": "ipython",
    "version": 3
   },
   "file_extension": ".py",
   "mimetype": "text/x-python",
   "name": "python",
   "nbconvert_exporter": "python",
   "pygments_lexer": "ipython3",
   "version": "3.10.4"
  },
  "orig_nbformat": 4,
  "vscode": {
   "interpreter": {
    "hash": "9725d54ea1d2fec8e106211d56814ca5bf75b29cfdca411305d0e96ecd363bab"
   }
  }
 },
 "nbformat": 4,
 "nbformat_minor": 2
}
