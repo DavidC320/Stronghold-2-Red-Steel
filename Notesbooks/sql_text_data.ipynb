{
 "cells": [
  {
   "cell_type": "code",
   "execution_count": 2,
   "metadata": {},
   "outputs": [
    {
     "name": "stdout",
     "output_type": "stream",
     "text": [
      "1\n",
      "1\n",
      "'1'\n"
     ]
    }
   ],
   "source": [
    "# This test is to create\n",
    "text = \"1\"\n",
    "print(text)\n",
    "test1 = \"1\"\n",
    "print(f\"{test1}\")\n",
    "print(f\"'{test1}'\")\n"
   ]
  },
  {
   "cell_type": "code",
   "execution_count": 2,
   "metadata": {},
   "outputs": [
    {
     "name": "stdout",
     "output_type": "stream",
     "text": [
      "asdf\n",
      "asdfd\n"
     ]
    }
   ],
   "source": [
    "test = {\"asdf\" : \"dasf\",\n",
    "\"asdfd\": \"sdaf\"}\n",
    "for a in test:\n",
    "    print(a)\n"
   ]
  },
  {
   "cell_type": "code",
   "execution_count": 6,
   "metadata": {},
   "outputs": [
    {
     "name": "stdout",
     "output_type": "stream",
     "text": [
      "1\n"
     ]
    }
   ],
   "source": [
    "list1 = (\"a\", \"s\", \"fd\")\n",
    "list2 = (\"asdf\", \"asdg\", \"oipdfv\")\n",
    "list3 = (list1, list2)\n",
    "print(list3.index(list2))"
   ]
  },
  {
   "cell_type": "code",
   "execution_count": 4,
   "metadata": {},
   "outputs": [
    {
     "name": "stdout",
     "output_type": "stream",
     "text": [
      "5555555\n",
      "4554555"
     ]
    }
   ],
   "source": [
    "from random import randint\n",
    "class test:\n",
    "    def __init__(self, num):\n",
    "        self.text = \"5\"\n",
    "        self.num = num\n",
    "\n",
    "tst_list = [test(1), test(11), test(2), test(1), test(5), test(5), test(2)]\n",
    "for item in tst_list:\n",
    "    print(end=item.text)\n",
    "print(\"\")\n",
    "\n",
    "tst2_list = []\n",
    "for item in tst_list: \n",
    "    if item.num == 1: \n",
    "        item.text = \"4\"\n",
    "    tst2_list.append(item)\n",
    "\n",
    "for item in tst2_list:\n",
    "    print(end=item.text)"
   ]
  }
 ],
 "metadata": {
  "kernelspec": {
   "display_name": "Python 3",
   "language": "python",
   "name": "python3"
  },
  "language_info": {
   "codemirror_mode": {
    "name": "ipython",
    "version": 3
   },
   "file_extension": ".py",
   "mimetype": "text/x-python",
   "name": "python",
   "nbconvert_exporter": "python",
   "pygments_lexer": "ipython3",
   "version": "3.10.4 (tags/v3.10.4:9d38120, Mar 23 2022, 23:13:41) [MSC v.1929 64 bit (AMD64)]"
  },
  "orig_nbformat": 4,
  "vscode": {
   "interpreter": {
    "hash": "9725d54ea1d2fec8e106211d56814ca5bf75b29cfdca411305d0e96ecd363bab"
   }
  }
 },
 "nbformat": 4,
 "nbformat_minor": 2
}
